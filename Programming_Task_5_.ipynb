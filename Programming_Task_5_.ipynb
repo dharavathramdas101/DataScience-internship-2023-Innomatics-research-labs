{
  "cells": [
    {
      "cell_type": "markdown",
      "source": [
        "# Programming Task - 5 "
      ],
      "metadata": {
        "id": "Y9odh1y7N8yh"
      },
      "id": "Y9odh1y7N8yh"
    },
    {
      "cell_type": "code",
      "execution_count": null,
      "id": "635eb3a2",
      "metadata": {
        "id": "635eb3a2",
        "outputId": "78e0a970-27a7-4e73-b9b2-abf8ad09745f"
      },
      "outputs": [
        {
          "name": "stdout",
          "output_type": "stream",
          "text": [
            "100,000,000.000\n",
            "100\n",
            "000\n",
            "000\n",
            "000\n"
          ]
        }
      ],
      "source": [
        "regex_pattern = r\"[\\,\\.]\"\t# Do not delete 'r'.\n",
        "\n",
        "import re\n",
        "print(\"\\n\".join(re.split(regex_pattern, input())))"
      ]
    },
    {
      "cell_type": "code",
      "execution_count": null,
      "id": "4309c165",
      "metadata": {
        "id": "4309c165",
        "outputId": "79e6d4d0-4931-425a-86a9-83ca38b50465"
      },
      "outputs": [
        {
          "name": "stdout",
          "output_type": "stream",
          "text": [
            "..12345678910111213141516171820212223\n",
            "1\n"
          ]
        }
      ],
      "source": [
        "import re\n",
        "m = re.findall(r\"([A-Za-z0-9])\\1+\",input())\n",
        "if m:\n",
        "    print(m[0])\n",
        "else:\n",
        "    print(-1)"
      ]
    },
    {
      "cell_type": "code",
      "execution_count": null,
      "id": "ccbec26a",
      "metadata": {
        "id": "ccbec26a",
        "outputId": "fe10a083-8170-4556-a4f5-b534b4ab4976"
      },
      "outputs": [
        {
          "name": "stdout",
          "output_type": "stream",
          "text": [
            "rabcdeefgyYhFjkIoomnpOeorteeeeet\n",
            "ee\n",
            "Ioo\n",
            "Oeo\n",
            "eeeee\n"
          ]
        }
      ],
      "source": [
        "import re\n",
        "v = \"aeiou\"\n",
        "c = \"qwrtypsdfghjklzxcvbnm\"\n",
        "m = re.findall(r\"(?<=[%s])([%s]{2,})[%s]\" % (c, v, c), input(), flags = re.I)\n",
        "print('\\n'.join(m or ['-1']))"
      ]
    },
    {
      "cell_type": "code",
      "execution_count": null,
      "id": "64a72c5a",
      "metadata": {
        "id": "64a72c5a",
        "outputId": "8a32a07c-84c7-452b-e8a5-931d941115f1"
      },
      "outputs": [
        {
          "name": "stdout",
          "output_type": "stream",
          "text": [
            "aaadaa aa\n",
            "aa\n",
            "(0, 1)\n",
            "(1, 2)\n",
            "(4, 5)\n",
            "(7, 8)\n"
          ]
        }
      ],
      "source": [
        "S = input()\n",
        "k = input()\n",
        "import re\n",
        "pattern = re.compile(k)\n",
        "r = pattern.search(S)\n",
        "if not r: print(\"(-1, -1)\")\n",
        "while r:\n",
        "    print(\"({0}, {1})\".format(r.start(), r.end() - 1))\n",
        "    r = pattern.search(S,r.start() + 1)"
      ]
    },
    {
      "cell_type": "code",
      "execution_count": null,
      "id": "fa009ef3",
      "metadata": {
        "id": "fa009ef3"
      },
      "outputs": [],
      "source": [
        "import re\n",
        "[ print(\\\n",
        "    re.sub(r'(?<= )\\|\\|(?= )', \"or\", (\\\n",
        "    re.sub(r'(?<= )\\&\\&(?= )', \"and\", \\\n",
        "    input())))) \\\n",
        "    for _ in range(int(input()))\\\n",
        "]"
      ]
    },
    {
      "cell_type": "code",
      "execution_count": null,
      "id": "24558a8e",
      "metadata": {
        "id": "24558a8e"
      },
      "outputs": [],
      "source": [
        "regex_pattern = r\"\"\t# Do not delete 'r'.\n",
        "thousand = 'M{0,3}'\n",
        "hundred = '(C[MD]|D?C{0,3})'\n",
        "ten = '(X[CL]|L?X{0,3})'\n",
        "digit = '(I[VX]|V?I{0,3})'\n",
        "regex_pattern = r\"%s%s%s%s$\" % (thousand, hundred, ten, digit)   \n",
        "import re\n",
        "print(str(bool(re.match(regex_pattern, input()))))"
      ]
    },
    {
      "cell_type": "code",
      "execution_count": null,
      "id": "540639f2",
      "metadata": {
        "id": "540639f2"
      },
      "outputs": [],
      "source": [
        "import re\n",
        "for _ in range(int(input())):\n",
        "    if re.match(r'[789]\\d{9}$',input()):   \n",
        "        print('YES')  \n",
        "    else:  \n",
        "        print('NO')"
      ]
    },
    {
      "cell_type": "code",
      "execution_count": null,
      "id": "2068defa",
      "metadata": {
        "id": "2068defa"
      },
      "outputs": [],
      "source": [
        "import re\n",
        "n = int(input())\n",
        "for _ in range(n):\n",
        "    x, y = input().split(' ')\n",
        "    m = re.match(r'<[A-Za-z](\\w|-|\\.|_)+@[A-Za-z]+\\.[A-Za-z]{1,3}>', y)\n",
        "    if m:\n",
        "        print(x,y)"
      ]
    },
    {
      "cell_type": "code",
      "execution_count": null,
      "id": "74190583",
      "metadata": {
        "id": "74190583"
      },
      "outputs": [],
      "source": [
        "import re\n",
        "N=int(input())\n",
        "\n",
        "for i in range(0,N):\n",
        "    s=input()\n",
        "\n",
        "    x=s.split()\n",
        "\n",
        "    if len(x)>1  and  '{' not in x:\n",
        "        x=re.findall(r'#[a-fA-F0-9]{3,6}',s)\n",
        "        [print(i) for  i in x]"
      ]
    },
    {
      "cell_type": "code",
      "execution_count": null,
      "id": "d1c0781d",
      "metadata": {
        "id": "d1c0781d"
      },
      "outputs": [],
      "source": [
        "from html.parser import HTMLParser\n",
        "class MyHTMLParser(HTMLParser):\n",
        "    def handle_starttag(self, tag, attrs):        \n",
        "        print ('Start :',tag)\n",
        "        for ele in attrs:\n",
        "            print ('->',ele[0],'>',ele[1])\n",
        "            \n",
        "    def handle_endtag(self, tag):\n",
        "        print ('End   :',tag)\n",
        "        \n",
        "    def handle_startendtag(self, tag, attrs):\n",
        "        print ('Empty :',tag)\n",
        "        for ele in attrs:\n",
        "            print ('->',ele[0],'>',ele[1])\n",
        "            \n",
        "MyParser = MyHTMLParser()\n",
        "MyParser.feed(''.join([input().strip() for _ in range(int(input()))]))"
      ]
    },
    {
      "cell_type": "code",
      "execution_count": null,
      "id": "92f1e310",
      "metadata": {
        "id": "92f1e310"
      },
      "outputs": [],
      "source": [
        "from html.parser import HTMLParser\n",
        "html = \"\"\n",
        "class MyHTMLParser(HTMLParser):\n",
        "  def handle_comment(self,data):\n",
        "        if('\\n' in data):\n",
        "            print(\">>> Multi-line Comment\")\n",
        "        else:\n",
        "            print(\">>> Single-line Comment\")\n",
        "        print(data)\n",
        "def handle_data(self,data):\n",
        "        if(data != '\\n'):\n",
        "            print(\">>> Data\")\n",
        "            print(data)\n",
        "  \n",
        "  \n",
        "  \n",
        "for i in range(int(input())):\n",
        "    html += input().rstrip()\n",
        "    html += '\\n'\n",
        "    \n",
        "parser = MyHTMLParser()\n",
        "parser.feed(html)\n",
        "parser.close()"
      ]
    },
    {
      "cell_type": "code",
      "execution_count": null,
      "id": "492379d5",
      "metadata": {
        "id": "492379d5"
      },
      "outputs": [],
      "source": [
        "from html.parser import HTMLParser\n",
        "class MyHTMLParser(HTMLParser):\n",
        "    def handle_starttag(self, tag, attrs):\n",
        "        print(tag)\n",
        "        [print('-> {} > {}'.format(*attr)) for attr in attrs]\n",
        "        \n",
        "html = '\\n'.join([input() for _ in range(int(input()))])\n",
        "parser = MyHTMLParser()\n",
        "parser.feed(html)\n",
        "parser.close()"
      ]
    },
    {
      "cell_type": "code",
      "execution_count": null,
      "id": "0f856da5",
      "metadata": {
        "id": "0f856da5"
      },
      "outputs": [],
      "source": [
        "import re\n",
        "\n",
        "for _ in range(int(input())):\n",
        "    u = ''.join(sorted(input()))\n",
        "    try:\n",
        "        assert re.search(r'[A-Z]{2}', u)\n",
        "        assert re.search(r'\\d\\d\\d', u)\n",
        "        assert not re.search(r'[^a-zA-Z0-9]', u)\n",
        "        assert not re.search(r'(.)\\1', u)\n",
        "        assert len(u) == 10\n",
        "    except:\n",
        "        print('Invalid')\n",
        "    else:\n",
        "        print('Valid')"
      ]
    },
    {
      "cell_type": "code",
      "execution_count": null,
      "id": "542eb4a9",
      "metadata": {
        "id": "542eb4a9"
      },
      "outputs": [],
      "source": [
        "import re\n",
        "TESTER = re.compile(\n",
        "    r\"^\"\n",
        "    r\"(?!.*(\\d)(-?\\1){3})\"\n",
        "    r\"[456]\"\n",
        "    r\"\\d{3}\"\n",
        "    r\"(?:-?\\d{4}){3}\"\n",
        "    r\"$\")\n",
        "for _ in range(int(input().strip())):\n",
        "    print(\"Valid\" if TESTER.search(input().strip()) else \"Invalid\")"
      ]
    },
    {
      "cell_type": "code",
      "execution_count": null,
      "id": "23807669",
      "metadata": {
        "id": "23807669"
      },
      "outputs": [],
      "source": [
        "regex_integer_in_range = r\"_________\"\t# Do not delete 'r'.\n",
        "regex_alternating_repetitive_digit_pair = r\"_________\"\t# Do not delete 'r'.\n",
        "print bool(re.match(r'^(?!(?:.*(.).\\1.*){2,})(?!.*(.)(.)\\2\\3)[1-9]\\d{5}$', raw_input()))\n",
        "\n",
        "\n",
        "import re\n",
        "P = input()\n",
        "\n",
        "print (bool(re.match(regex_integer_in_range, P)) \n",
        "and len(re.findall(regex_alternating_repetitive_digit_pair, P)) < 2)"
      ]
    },
    {
      "cell_type": "code",
      "execution_count": null,
      "id": "c1ddf892",
      "metadata": {
        "id": "c1ddf892"
      },
      "outputs": [],
      "source": [
        "import math\n",
        "import os\n",
        "import random\n",
        "import re\n",
        "import sys\n",
        "first_multiple_input = input().rstrip().split()\n",
        "\n",
        "n = int(first_multiple_input[0])\n",
        "\n",
        "m = int(first_multiple_input[1])\n",
        "\n",
        "matrix = []\n",
        "\n",
        "for _ in range(n):\n",
        "    matrix_item = input()\n",
        "    matrix.append(matrix_item)\n",
        "encoded_string = \"\".join([matrix[j][i] for i in range(m) for j in range(n)])\n",
        "pat = r'(?<=[a-zA-Z0-9])[^a-zA-Z0-9]+(?=[a-zA-Z0-9])'\n",
        "print(re.sub(pat,' ',encoded_string))"
      ]
    },
    {
      "cell_type": "code",
      "execution_count": null,
      "id": "11baf2a2",
      "metadata": {
        "id": "11baf2a2"
      },
      "outputs": [],
      "source": []
    }
  ],
  "metadata": {
    "kernelspec": {
      "display_name": "Python 3 (ipykernel)",
      "language": "python",
      "name": "python3"
    },
    "language_info": {
      "codemirror_mode": {
        "name": "ipython",
        "version": 3
      },
      "file_extension": ".py",
      "mimetype": "text/x-python",
      "name": "python",
      "nbconvert_exporter": "python",
      "pygments_lexer": "ipython3",
      "version": "3.9.12"
    },
    "colab": {
      "provenance": []
    }
  },
  "nbformat": 4,
  "nbformat_minor": 5
}