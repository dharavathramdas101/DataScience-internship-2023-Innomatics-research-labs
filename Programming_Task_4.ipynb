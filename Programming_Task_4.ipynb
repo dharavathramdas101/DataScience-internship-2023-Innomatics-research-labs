{
  "cells": [
    {
      "cell_type": "markdown",
      "source": [
        "# Programming Task - 4"
      ],
      "metadata": {
        "id": "V1bDpYAWKpxb"
      },
      "id": "V1bDpYAWKpxb"
    },
    {
      "cell_type": "code",
      "execution_count": 1,
      "id": "d9857b19",
      "metadata": {
        "colab": {
          "base_uri": "https://localhost:8080/",
          "height": 0
        },
        "id": "d9857b19",
        "outputId": "cc2350ef-764b-4465-f210-240519db3fd8"
      },
      "outputs": [
        {
          "output_type": "stream",
          "name": "stdout",
          "text": [
            "ramffg\n",
            "RAMFFG\n"
          ]
        }
      ],
      "source": [
        "# sWAP cASE in Python - HackerRank Solution\n",
        "def swap_case(s):\n",
        "\n",
        "    # sWAP cASE in Python - HackerRank Solution START\n",
        "    Output = '';\n",
        "    for char in s:\n",
        "        if(char.isupper()==True):\n",
        "            Output += (char.lower());\n",
        "        elif(char.islower()==True):\n",
        "            Output += (char.upper());\n",
        "        else:\n",
        "            Output += char;\n",
        "    return Output;\n",
        "    # sWAP cASE in Python - HackerRank Solution END\n",
        "\n",
        "\n",
        "\n",
        "\n",
        "\n",
        "if __name__ == '__main__':\n",
        "    s = input()\n",
        "    result = swap_case(s)\n",
        "    print(result)"
      ]
    },
    {
      "cell_type": "code",
      "source": [
        "\n",
        "# Complete the 'print_full_name' function below.\n",
        "#\n",
        "# The function is expected to return a STRING.\n",
        "# The function accepts following parameters:\n",
        "#  1. STRING first\n",
        "#  2. STRING last\n",
        "#\n",
        "\n",
        "def print_full_name(a, b):\n",
        "\n",
        "    # What's Your Name? in Python - HackerRank Solution START\n",
        "    b = b+\"!\"\n",
        "    print(\"Hello\",a, b,\"You just delved into python.\");\n",
        "\n",
        "if __name__ == '__main__':\n",
        "    first_name = input()\n",
        "    last_name = input()\n",
        "    print_full_name(first_name, last_name)"
      ],
      "metadata": {
        "colab": {
          "base_uri": "https://localhost:8080/",
          "height": 0
        },
        "id": "iyxHMWRXMBPK",
        "outputId": "b1d38134-f584-41ac-8607-b134b98eda40"
      },
      "id": "iyxHMWRXMBPK",
      "execution_count": 2,
      "outputs": [
        {
          "output_type": "stream",
          "name": "stdout",
          "text": [
            "ram\n",
            "hf\n",
            "Hello ram hf! You just delved into python.\n"
          ]
        }
      ]
    },
    {
      "cell_type": "code",
      "source": [
        "\n",
        "\n",
        "def minion_game(string):\n",
        "    # your code goes here\n",
        "    # The Minion Game in Python - Hacker Rank Solution START\n",
        "    player1 = 0;\n",
        "    player2 = 0;\n",
        "    str_len = len(string)\n",
        "    for i in range(str_len):\n",
        "        if s[i] in \"AEIOU\":\n",
        "            player1 += (str_len)-i\n",
        "        else :\n",
        "            player2 += (str_len)-i\n",
        "    \n",
        "    if player1 > player2:\n",
        "        print(\"Kevin\", player1)\n",
        "    elif player1 < player2:\n",
        "        print(\"Stuart\",player2)\n",
        "    elif player1 == player2:\n",
        "        print(\"Draw\")\n",
        "    else :\n",
        "        print(\"Draw\")\n",
        "    # The Minion Game in Python - Hacker Rank Solution END\n",
        "\n",
        "\n",
        "if __name__ == '__main__':\n",
        "    s = input()\n",
        "    minion_game(s)"
      ],
      "metadata": {
        "id": "BEjjtmASMBM5"
      },
      "id": "BEjjtmASMBM5",
      "execution_count": null,
      "outputs": []
    },
    {
      "cell_type": "code",
      "source": [
        "import textwrap\n",
        "\n",
        "def wrap(string, max_width):\n",
        "    # Text Wrap in Python - HackerRank Solution START\n",
        "    return textwrap.fill(string,max_width)\n",
        "    # Text Wrap in Python - HackerRank Solution END\n",
        "\n",
        "if __name__ == '__main__':\n",
        "    string, max_width = input(), int(input())\n",
        "    result = wrap(string, max_width)\n",
        "    print(result)"
      ],
      "metadata": {
        "id": "6Y6wFxnPMBLe"
      },
      "id": "6Y6wFxnPMBLe",
      "execution_count": null,
      "outputs": []
    },
    {
      "cell_type": "code",
      "source": [
        "#Replace all ______ with rjust, ljust or center. \n",
        "\n",
        "thickness = int(input()) #This must be an odd number\n",
        "c = 'H'\n",
        "\n",
        "#Top Cone\n",
        "# replace  ______ To rjust |  ______ To  ljust\n",
        "for i in range(thickness):\n",
        "    print((c*i).rjust(thickness-1)+c+(c*i).ljust(thickness-1))\n",
        "\n",
        "#Top Pillars\n",
        "# replace ______ To center |  ______ To center\n",
        "for i in range(thickness+1):\n",
        "    print((c*thickness).center(thickness*2)+(c*thickness).center(thickness*6))\n",
        "\n",
        "#Middle Belt\n",
        "# replace ______ To center\n",
        "for i in range((thickness+1)//2):\n",
        "    print((c*thickness*5).center(thickness*6))    \n",
        "\n",
        "#Bottom Pillars\n",
        "# replace ______ To center |  ______ To center\n",
        "for i in range(thickness+1):\n",
        "    print((c*thickness).center(thickness*2)+(c*thickness).center(thickness*6))    \n",
        "\n",
        "#Bottom Cone\n",
        "# replace ______ To rjust |  ______ To ljust |  ______ To rjust\n",
        "for i in range(thickness):\n",
        "    print(((c*(thickness-i-1)).rjust(thickness)+c+(c*(thickness-i-1)).ljust(thickness)).rjust(thickness*6))\n",
        "\n",
        "''' Text Allignment in Python - HackerRank Solution END '''\n"
      ],
      "metadata": {
        "id": "Yt8krCjLMBCC"
      },
      "id": "Yt8krCjLMBCC",
      "execution_count": null,
      "outputs": []
    },
    {
      "cell_type": "code",
      "source": [
        "if __name__ == '__main__':\n",
        "    S = input()\n",
        "print(any(char.isalnum() for char in S))\n",
        "print(any(char.isalpha() for char in S))\n",
        "print(any(char.isdigit() for char in S))\n",
        "print(any(char.islower() for char in S))\n",
        "print(any(char.isupper() for char in S))\n"
      ],
      "metadata": {
        "id": "mQ8tGPubMA8H"
      },
      "id": "mQ8tGPubMA8H",
      "execution_count": null,
      "outputs": []
    },
    {
      "cell_type": "code",
      "source": [
        "def split_and_join(line):\n",
        "    a = line.split(\" \")\n",
        "    a = \"-\".join(a)\n",
        "    return a\n",
        "    \n",
        "\n",
        "\n",
        "\n",
        "if __name__ == '__main__':\n",
        "    line = input()\n",
        "    result = split_and_join(line)\n",
        "    print(result)"
      ],
      "metadata": {
        "id": "largCSF0MA6I"
      },
      "id": "largCSF0MA6I",
      "execution_count": null,
      "outputs": []
    },
    {
      "cell_type": "code",
      "source": [
        "# String Formatting in Python - HackerRank Solution\n",
        "def print_formatted(number):\n",
        "    # your code goes here\n",
        "    # String Formatting in Python - HackerRank Solution START\n",
        "    l1 = len(bin(number)[2:])\n",
        "    for i in range(1, number + 1):\n",
        "        print(str(i).rjust(l1, ' '), end=\" \")\n",
        "        print(oct(i)[2:].rjust(l1, ' '), end=\" \")\n",
        "        print(((hex(i)[2:]).upper()).rjust(l1, ' '), end=\" \")\n",
        "        print(bin(i)[2:].rjust(l1, ' '), end=\" \")\n",
        "        print(\"\")\n",
        "\n",
        "\n",
        "\n",
        "if __name__ == '__main__':\n",
        "    n = int(input())\n",
        "    print_formatted(n)"
      ],
      "metadata": {
        "id": "aIERY160MA4a"
      },
      "id": "aIERY160MA4a",
      "execution_count": null,
      "outputs": []
    },
    {
      "cell_type": "code",
      "source": [
        "def mutate_string(string, position, character):\n",
        "    # Mutations in Python - HackerRank Solution START\n",
        "    l = list(string)\n",
        "    l[position] = character;\n",
        "    string = ''.join(l);\n",
        "    return string\n",
        "    # Mutations in Python - HackerRank Solution END\n",
        "\n",
        "\n",
        "if __name__ == '__main__':\n",
        "    s = input()\n",
        "    i, c = input().split()\n",
        "    s_new = mutate_string(s, int(i), c)\n",
        "    print(s_new)\n",
        "Footer\n",
        "© 2023 GitHub, Inc.\n",
        "Footer navigation\n",
        "Terms\n",
        "Privacy"
      ],
      "metadata": {
        "id": "VcmrFOfPMA23"
      },
      "id": "VcmrFOfPMA23",
      "execution_count": null,
      "outputs": []
    },
    {
      "cell_type": "code",
      "source": [
        "def merge_the_tools(string, k):\n",
        "    # your code goes here\n",
        "    for i in range(0,len(string), k):\n",
        "        #slice string upto k characters\n",
        "        line = string[i:i+k]\n",
        "        seen = set()\n",
        "        for i in line:\n",
        "            #only print if we haven't already seen this character\n",
        "            if i not in seen:\n",
        "                print(i,end=\"\")\n",
        "                seen.add(i)\n",
        "        #prints a new line\n",
        "        print()\n",
        "\n",
        "\n",
        "if __name__ == '__main__':\n",
        "    string, k = input(), int(input())\n",
        "    merge_the_tools(string, k)"
      ],
      "metadata": {
        "id": "udzpu2-9MAnc"
      },
      "id": "udzpu2-9MAnc",
      "execution_count": null,
      "outputs": []
    },
    {
      "cell_type": "code",
      "source": [
        "# Find a string in Python - HackerRank Solution\n",
        "def count_substring(string, sub_string):\n",
        "    # Find a string in Python - Hacker Rank Solution START\n",
        "    count = 0\n",
        "    for i in range(len(string)-len(sub_string)+1):\n",
        "        if (string[i:i+len(sub_string)] == sub_string):\n",
        "            count += 1\n",
        "    return count\n",
        "    # Find a string in Python - HackerRank Solution END\n",
        "\n",
        "\n",
        "\n",
        "if __name__ == '__main__':\n",
        "    string = input().strip()\n",
        "    sub_string = input().strip()\n",
        "    \n",
        "    count = count_substring(string, sub_string)\n",
        "    print(count)"
      ],
      "metadata": {
        "id": "w2Z4kJs_M75S"
      },
      "id": "w2Z4kJs_M75S",
      "execution_count": null,
      "outputs": []
    },
    {
      "cell_type": "code",
      "source": [
        "# Enter your code here. Read input from STDIN. Print output to STDOUT\n",
        "# Designer Door Mat in Python - HackerRank Solution START\n",
        "N, M = map(int, input().split())\n",
        "for i in range(1, N, 2):\n",
        "    print(str('.|.' * i).center(M, '-'))\n",
        "print('WELCOME'.center(M, '-'))\n",
        "for i in range(N-2, -1, -2):\n",
        "    print(str('.|.' * i).center(M, '-'))\n",
        "# Designer Door Mat in Python - HackerRank Solution END"
      ],
      "metadata": {
        "id": "-V1msjXdNEz4"
      },
      "id": "-V1msjXdNEz4",
      "execution_count": null,
      "outputs": []
    },
    {
      "cell_type": "code",
      "source": [
        "\n",
        "import math\n",
        "import os\n",
        "import random\n",
        "import re\n",
        "import sys\n",
        "\n",
        "\n",
        "\n",
        "# Complete the solve function below.\n",
        "def solve(s):\n",
        "    for i in s.split():\n",
        "        s = s.replace(i,i.capitalize())\n",
        "    return s\n",
        "\n",
        "\n",
        "if __name__ == '__main__':\n",
        "    fptr = open(os.environ['OUTPUT_PATH'], 'w')\n",
        "\n",
        "    s = input()\n",
        "\n",
        "    result = solve(s)\n",
        "\n",
        "    fptr.write(result + '\\n')\n",
        "\n",
        "    fptr.close()"
      ],
      "metadata": {
        "id": "4AjmqaKuNEuE"
      },
      "id": "4AjmqaKuNEuE",
      "execution_count": null,
      "outputs": []
    },
    {
      "cell_type": "code",
      "source": [
        "def print_rangoli(size):\n",
        "    # your code goes here\n",
        "    width  = size*4-3\n",
        "    string = ''\n",
        "\n",
        "    for i in range(1,size+1):\n",
        "        for j in range(0,i):\n",
        "            string += chr(96+size-j)\n",
        "            if len(string) < width :\n",
        "                string += '-'\n",
        "        for k in range(i-1,0,-1):    \n",
        "            string += chr(97+size-k)\n",
        "            if len(string) < width :\n",
        "                string += '-'\n",
        "        print(string.center(width,'-'))\n",
        "        string = ''\n",
        "\n",
        "    for i in range(size-1,0,-1):\n",
        "        string = ''\n",
        "        for j in range(0,i):\n",
        "            string += chr(96+size-j)\n",
        "            if len(string) < width :\n",
        "                string += '-'\n",
        "        for k in range(i-1,0,-1):\n",
        "            string += chr(97+size-k)\n",
        "            if len(string) < width :\n",
        "                string += '-'\n",
        "        print(string.center(width,'-'))\n",
        "\n",
        "if __name__ == '__main__':\n",
        "    n = int(input())\n",
        "    print_rangoli(n)"
      ],
      "metadata": {
        "id": "s3EVBFQPNOZz"
      },
      "id": "s3EVBFQPNOZz",
      "execution_count": null,
      "outputs": []
    }
  ],
  "metadata": {
    "kernelspec": {
      "display_name": "Python 3 (ipykernel)",
      "language": "python",
      "name": "python3"
    },
    "language_info": {
      "codemirror_mode": {
        "name": "ipython",
        "version": 3
      },
      "file_extension": ".py",
      "mimetype": "text/x-python",
      "name": "python",
      "nbconvert_exporter": "python",
      "pygments_lexer": "ipython3",
      "version": "3.9.12"
    },
    "colab": {
      "provenance": []
    }
  },
  "nbformat": 4,
  "nbformat_minor": 5
}